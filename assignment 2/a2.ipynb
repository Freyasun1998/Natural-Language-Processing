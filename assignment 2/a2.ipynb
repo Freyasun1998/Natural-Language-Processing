{
 "cells": [
  {
   "cell_type": "code",
   "execution_count": 1,
   "metadata": {},
   "outputs": [],
   "source": [
    "#create the data\n",
    "s1=\"<s> I am Sam </s>\".split(\" \")\n",
    "s2=\"<s> Sam I am </s>\".split(\" \")\n",
    "s3=\"<s> I am Sam </s>\".split(\" \")\n",
    "s4=\"<s> I do not like green eggs and Ham </s>\".split(\" \")"
   ]
  },
  {
   "cell_type": "code",
   "execution_count": 3,
   "metadata": {},
   "outputs": [
    {
     "name": "stdout",
     "output_type": "stream",
     "text": [
      "[['<s>', 'I', 'am'], ['I', 'am', 'Sam'], ['am', 'Sam', '</s>'], ['<s>', 'Sam', 'I'], ['Sam', 'I', 'am'], ['I', 'am', '</s>'], ['<s>', 'I', 'am'], ['I', 'am', 'Sam'], ['am', 'Sam', '</s>'], ['<s>', 'I', 'do'], ['I', 'do', 'not'], ['do', 'not', 'like'], ['not', 'like', 'green'], ['like', 'green', 'eggs'], ['green', 'eggs', 'and'], ['eggs', 'and', 'Ham'], ['and', 'Ham', '</s>']]\n"
     ]
    }
   ],
   "source": [
    "trigram = []\n",
    "for i in range(len(s1)-2): \n",
    "    trigram.append([s1[i], s1[i+1], s1[i+2]])\n",
    "for i in range(len(s2)-2):\n",
    "    trigram.append([s2[i], s2[i+1], s2[i+2]])\n",
    "for i in range(len(s3)-2):\n",
    "    trigram.append([s3[i], s3[i+1], s3[i+2]])\n",
    "for i in range(len(s4)-2):\n",
    "    trigram.append([s4[i], s4[i+1], s4[i+2]])\n",
    "\n",
    "print(trigram)"
   ]
  },
  {
   "cell_type": "code",
   "execution_count": 4,
   "metadata": {},
   "outputs": [
    {
     "name": "stdout",
     "output_type": "stream",
     "text": [
      "P(am|<s>, I)=0.6666666666666666\n",
      "P(Sam|I, am)=0.6666666666666666\n",
      "P(</s>|am, Sam)=1.0\n",
      "P(I|<s>, Sam)=1.0\n",
      "P(am|Sam, I)=1.0\n",
      "P(</s>|I, am)=0.3333333333333333\n",
      "P(am|<s>, I)=0.6666666666666666\n",
      "P(Sam|I, am)=0.6666666666666666\n",
      "P(</s>|am, Sam)=1.0\n",
      "P(do|<s>, I)=0.3333333333333333\n",
      "P(not|I, do)=1.0\n",
      "P(like|do, not)=1.0\n",
      "P(green|not, like)=1.0\n",
      "P(eggs|like, green)=1.0\n",
      "P(and|green, eggs)=1.0\n",
      "P(Ham|eggs, and)=1.0\n",
      "P(</s>|and, Ham)=1.0\n"
     ]
    }
   ],
   "source": [
    "for i in trigram:\n",
    "    A=len([x for x in trigram if x[0] == i[0] and x[1] == i[1]])\n",
    "    B=len([y for y in trigram if y[0] == i[0] and y[1] == i[1] and y[2] ==i[2]])\n",
    "    print(f\"P({i[2]}|{i[0]}, {i[1]})={B/A}\")"
   ]
  }
 ],
 "metadata": {
  "kernelspec": {
   "display_name": "Python 3.9.12 ('TF')",
   "language": "python",
   "name": "python3"
  },
  "language_info": {
   "codemirror_mode": {
    "name": "ipython",
    "version": 3
   },
   "file_extension": ".py",
   "mimetype": "text/x-python",
   "name": "python",
   "nbconvert_exporter": "python",
   "pygments_lexer": "ipython3",
   "version": "3.9.12"
  },
  "orig_nbformat": 4,
  "vscode": {
   "interpreter": {
    "hash": "263286f8e555d11a2898a0ec2a3edf48167460b52a6319f3c1490d6e47c59551"
   }
  }
 },
 "nbformat": 4,
 "nbformat_minor": 2
}
